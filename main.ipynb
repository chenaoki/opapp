{
 "cells": [
  {
   "cell_type": "code",
   "execution_count": 1,
   "metadata": {},
   "outputs": [],
   "source": [
    "import sys, os\n",
    "import numpy as np\n",
    "import cupy as xp\n",
    "import cv2\n",
    "\n",
    "sys.path.append('./opmap/')\n",
    "\n",
    "import glob\n",
    "\n",
    "from opmap.rawCam import RawCam\n",
    "from opmap.vmemMap import VmemMap\n",
    "from opmap.phaseMapHilbert import PhaseMapHilbert\n",
    "from opmap.util import makeMovie\n",
    "\n",
    "import matplotlib.pyplot as plt\n",
    "%matplotlib inline"
   ]
  },
  {
   "cell_type": "code",
   "execution_count": 11,
   "metadata": {},
   "outputs": [],
   "source": [
    "def makeMovie(path, img_type='png'):\n",
    "    cmd = 'ffmpeg -r 30 -y -i \"{0}/%06d.{1}\" -vcodec libx264 -pix_fmt yuv420p \"{0}.avi\"'.format(path, img_type)\n",
    "    print(cmd)\n",
    "    os.system(cmd)"
   ]
  },
  {
   "cell_type": "code",
   "execution_count": 3,
   "metadata": {},
   "outputs": [],
   "source": [
    "def cvt_cmap(image_gray, cmap):\n",
    "    assert image_gray.dtype == np.uint8\n",
    "    if image_gray.ndim == 3: image_gray = image_gray.squeeze(-1)\n",
    "    sm = plt.cm.ScalarMappable(cmap=cmap)\n",
    "    color_range = sm.to_rgba(np.linspace(0,1,256))[:,0:3]\n",
    "    color_range = (color_range*255.0).astype(np.uint8)\n",
    "    color_range = np.squeeze(np.dstack([color_range[:,2],color_range[:,1],color_range[:,0]]),0)\n",
    "    channels = [cv2.LUT(image_gray, color_range[:,i]) for i in range(3)]\n",
    "    return np.dstack(channels)"
   ]
  },
  {
   "cell_type": "code",
   "execution_count": 4,
   "metadata": {},
   "outputs": [],
   "source": [
    "def impose(i_path, o_path, rate_cam, rate_over):\n",
    "    im_rgb = cv2.imread(i_path)\n",
    "    im_out = cv2.addWeighted(im_cam_rgb, rate_cam, im_rgb, rate_over, 0.)\n",
    "    cv2.imwrite(o_path, im_out)"
   ]
  },
  {
   "cell_type": "code",
   "execution_count": 5,
   "metadata": {},
   "outputs": [
    {
     "data": {
      "text/plain": [
       "(array([ 4.81199381e-06,  0.00000000e+00, -2.88719629e-05,  0.00000000e+00,\n",
       "         7.21799072e-05,  0.00000000e+00, -9.62398763e-05,  0.00000000e+00,\n",
       "         7.21799072e-05,  0.00000000e+00, -2.88719629e-05,  0.00000000e+00,\n",
       "         4.81199381e-06]),\n",
       " array([ 1.00000000e+00, -1.08536916e+01,  5.40749798e+01, -1.63534915e+02,\n",
       "         3.34367556e+02, -4.86950731e+02,  5.17957575e+02, -4.05453229e+02,\n",
       "         2.31820967e+02, -9.44162084e+01,  2.60011751e+01, -4.34717726e+00,\n",
       "         3.33700663e-01]))"
      ]
     },
     "execution_count": 5,
     "metadata": {},
     "output_type": "execute_result"
    }
   ],
   "source": [
    "from scipy import signal\n",
    "\n",
    "sample_rate = 1000 #[Hz]\n",
    "fp = np.array([5, 50])\n",
    "fs = np.array([2, 100])\n",
    "fn = sample_rate/2\n",
    "N, Wn = signal.buttord(fp/fn,fs/fn,3,40)\n",
    "b, a = signal.butter(N,Wn,\"band\")\n",
    "b, a\n"
   ]
  },
  {
   "cell_type": "code",
   "execution_count": 17,
   "metadata": {},
   "outputs": [
    {
     "data": {
      "text/plain": [
       "['Z://20190925-1\\\\LA\\\\C001H001S0001',\n",
       " 'Z://20190925-1\\\\LA\\\\C001H001S0002',\n",
       " 'Z://20190925-1\\\\LA\\\\C001H001S0003',\n",
       " 'Z://20190925-1\\\\LA\\\\C001H001S0004',\n",
       " 'Z://20190925-1\\\\LA\\\\C001H001S0005',\n",
       " 'Z://20190925-1\\\\LA\\\\C001H001S0006',\n",
       " 'Z://20190925-1\\\\LA\\\\C001H001S0007',\n",
       " 'Z://20190925-1\\\\LA\\\\C001H001S0008',\n",
       " 'Z://20190925-1\\\\LA\\\\C001H001S0009',\n",
       " 'Z://20190925-1\\\\LA\\\\C001H001S0010',\n",
       " 'Z://20190925-1\\\\LA\\\\C001H001S0011',\n",
       " 'Z://20190925-1\\\\LA\\\\C001H001S0012',\n",
       " 'Z://20190925-1\\\\LA\\\\C001H001S0013',\n",
       " 'Z://20190925-1\\\\LA\\\\C001H001S0014',\n",
       " 'Z://20190925-1\\\\LA\\\\C001H001S0015',\n",
       " 'Z://20190925-1\\\\LA\\\\C001H001S0016',\n",
       " 'Z://20190925-1\\\\LA\\\\C001H001S0017',\n",
       " 'Z://20190925-1\\\\LA\\\\C001H001S0018',\n",
       " 'Z://20190925-1\\\\LA\\\\C001H001S0019',\n",
       " 'Z://20190925-1\\\\LA\\\\C001H001S0020',\n",
       " 'Z://20190925-1\\\\LA\\\\C001H001S0021',\n",
       " 'Z://20190925-1\\\\LA\\\\C001H001S0022']"
      ]
     },
     "execution_count": 17,
     "metadata": {},
     "output_type": "execute_result"
    }
   ],
   "source": [
    "#src_list = sorted(glob.glob('C://Users/matsui/Documents/optical/20191126-1/C001H001S*'))\n",
    "#src_list = sorted(glob.glob('C://Users/matsui/Documents/optical/20191126-1/C001*'))\n",
    "src_list = sorted(glob.glob('Z://20190925-1\\LA\\C001*'))\n",
    "src_list"
   ]
  },
  {
   "cell_type": "code",
   "execution_count": 18,
   "metadata": {
    "scrolled": true
   },
   "outputs": [
    {
     "name": "stdout",
     "output_type": "stream",
     "text": [
      "Z://20190925-1\\LA\\C001H001S0006\n",
      "saving vmem...\n",
      "ffmpeg -r 30 -y -i \"Z://20190925-1\\LA\\C001H001S0006\\vmem/%06d.png\" -vcodec libx264 -pix_fmt yuv420p \"Z://20190925-1\\LA\\C001H001S0006\\vmem.avi\"\n",
      "ffmpeg -r 30 -y -i \"Z://20190925-1\\LA\\C001H001S0006\\vmem_imp/%06d.png\" -vcodec libx264 -pix_fmt yuv420p \"Z://20190925-1\\LA\\C001H001S0006\\vmem_imp.avi\"\n",
      "done\n"
     ]
    }
   ],
   "source": [
    "save=False\n",
    "for i, path in enumerate(src_list):\n",
    "    \n",
    "    if not i in [5]: continue\n",
    "    \n",
    "    out_path = path.replace('ExperimentData/', 'AnalysisResult/2019-11-27/')\n",
    "    if not os.path.exists(out_path): os.makedirs(out_path)\n",
    "    print(out_path)\n",
    "    \n",
    "    cam = RawCam(\n",
    "        path,\n",
    "        'sa4',\n",
    "        512,512,0,500\n",
    "    )\n",
    "    plt.imsave(os.path.join(out_path, 'cam.png'), xp.asnumpy(cam.data[0]), cmap='gray')\n",
    "    \n",
    "    im_cam = xp.asnumpy(cam.data[0])\n",
    "    im_cam_gray = (255*im_cam/float(im_cam.max())).astype(np.uint8)\n",
    "    im_cam_rgb = cvt_cmap(im_cam_gray, cmap=plt.get_cmap('gray'))\n",
    "    \n",
    "    if False: \n",
    "        path = os.path.join(out_path, 'cam')\n",
    "        cam.saveImage(path)\n",
    "    \n",
    "    cam.setIntROI(500)\n",
    "    cam.morphROI(erosion=5)\n",
    "    #cam.roi = xp.asarray(im_roi)\n",
    "    \n",
    "    vmem = VmemMap(cam)\n",
    "    del(cam)\n",
    "    \n",
    "    # vmem filtering\n",
    "    vmem.smooth_xy(5)\n",
    "    vmem.data = xp.asarray(signal.filtfilt(b,a,xp.asnumpy(vmem.data), axis=0))\n",
    "    vmem.data = xp.asarray([ signal.medfilt2d(im, 5) for im in xp.asnumpy(vmem.data)])\n",
    "    \n",
    "    #vmem.data = vmem.data*-1.0\n",
    "    \n",
    "    if True:\n",
    "        print('saving vmem...')\n",
    "        path = os.path.join(out_path, 'vmem')\n",
    "        vmem.saveImage(path)\n",
    "        makeMovie(path)\n",
    "        files = glob.glob(os.path.join(path, '*.png'))\n",
    "        path = path.replace('vmem', 'vmem_imp')\n",
    "        if not os.path.exists(path):os.makedirs(path)\n",
    "        [impose(path, path.replace('vmem', 'vmem_imp'),0.5,0.7) for path in files]\n",
    "        makeMovie(path)\n",
    "        print('done')\n",
    "\n",
    "    #vmem.shrink_xy(4)\n",
    "    vmem.smooth_xy(5)\n",
    "    pmap = PhaseMapHilbert(vmem, width=512)\n",
    "    del(vmem)\n",
    "\n",
    "    if save:\n",
    "        print('saving pmap...')\n",
    "        path = os.path.join(out_path, 'pmap')\n",
    "        pmap.saveImage(path)\n",
    "        makeMovie(path)\n",
    "        files = glob.glob(os.path.join(path, '*.png'))\n",
    "        path = path.replace('pmap', 'pmap_imp')\n",
    "        if not os.path.exists(path):os.makedirs(path)\n",
    "        [impose(path, path.replace('pmap', 'pmap_imp'),0.7,0.5) for path in files]\n",
    "        makeMovie(path)\n",
    "        print('done')\n",
    "    \n",
    "    del(pmap)\n"
   ]
  },
  {
   "cell_type": "code",
   "execution_count": 26,
   "metadata": {},
   "outputs": [],
   "source": [
    "plt.imsave('roi.bmp', xp.asnumpy(cam.roi), cmap='gray')"
   ]
  },
  {
   "cell_type": "code",
   "execution_count": 13,
   "metadata": {
    "scrolled": true
   },
   "outputs": [
    {
     "data": {
      "text/plain": [
       "<matplotlib.image.AxesImage at 0x1ab176c34c8>"
      ]
     },
     "execution_count": 13,
     "metadata": {},
     "output_type": "execute_result"
    },
    {
     "data": {
      "image/png": "[encoded data removed]",
      "text/plain": [
       "<Figure size 432x288 with 1 Axes>"
      ]
     },
     "metadata": {
      "needs_background": "light"
     },
     "output_type": "display_data"
    }
   ],
   "source": [
    "im_roi = cv2.imread(os.path.join('roi.bmp'))\n",
    "im_roi = cv2.cvtColor(im_roi, cv2.COLOR_BGR2GRAY)\n",
    "im_roi = ((im_roi==255)*1.0).astype(np.float32)\n",
    "plt.imshow(im_roi, cmap='gray')"
   ]
  },
  {
   "cell_type": "code",
   "execution_count": 11,
   "metadata": {},
   "outputs": [
    {
     "name": "stdout",
     "output_type": "stream",
     "text": [
      "ffmpeg -r 30 -y -i \"E://AnalysisResult/2019-11-27\\20191125-1\\C001H001S0006\\vmem/%06d.png\" -vcodec rawvideo \"E://AnalysisResult/2019-11-27\\20191125-1\\C001H001S0006\\vmem.avi\"\n",
      "ffmpeg -r 30 -y -i \"E://AnalysisResult/2019-11-27\\20191125-1\\C001H001S0006\\vmem.avi/%06d.png\" -vcodec rawvideo \"E://AnalysisResult/2019-11-27\\20191125-1\\C001H001S0006\\vmem.avi.avi\"\n",
      "ffmpeg -r 30 -y -i \"E://AnalysisResult/2019-11-27\\20191125-1\\C001H001S0006\\vmem_imp/%06d.png\" -vcodec rawvideo \"E://AnalysisResult/2019-11-27\\20191125-1\\C001H001S0006\\vmem_imp.avi\"\n",
      "ffmpeg -r 30 -y -i \"E://AnalysisResult/2019-11-27\\20191125-1\\C001H001S0006\\vmem_imp.avi/%06d.png\" -vcodec rawvideo \"E://AnalysisResult/2019-11-27\\20191125-1\\C001H001S0006\\vmem_imp.avi.avi\"\n",
      "ffmpeg -r 30 -y -i \"E://AnalysisResult/2019-11-27\\20191126-1\\C001H001S0003\\vmem/%06d.png\" -vcodec rawvideo \"E://AnalysisResult/2019-11-27\\20191126-1\\C001H001S0003\\vmem.avi\"\n",
      "ffmpeg -r 30 -y -i \"E://AnalysisResult/2019-11-27\\20191126-1\\C001H001S0003\\vmem_imp/%06d.png\" -vcodec rawvideo \"E://AnalysisResult/2019-11-27\\20191126-1\\C001H001S0003\\vmem_imp.avi\"\n",
      "ffmpeg -r 30 -y -i \"E://AnalysisResult/2019-11-27\\20191126-1\\C001H001S0006\\vmem/%06d.png\" -vcodec rawvideo \"E://AnalysisResult/2019-11-27\\20191126-1\\C001H001S0006\\vmem.avi\"\n",
      "ffmpeg -r 30 -y -i \"E://AnalysisResult/2019-11-27\\20191126-1\\C001H001S0006\\vmem_imp/%06d.png\" -vcodec rawvideo \"E://AnalysisResult/2019-11-27\\20191126-1\\C001H001S0006\\vmem_imp.avi\"\n",
      "ffmpeg -r 30 -y -i \"E://AnalysisResult/2019-11-27\\20191126-1\\C001H001S0007\\vmem/%06d.png\" -vcodec rawvideo \"E://AnalysisResult/2019-11-27\\20191126-1\\C001H001S0007\\vmem.avi\"\n",
      "ffmpeg -r 30 -y -i \"E://AnalysisResult/2019-11-27\\20191126-1\\C001H001S0007\\vmem_imp/%06d.png\" -vcodec rawvideo \"E://AnalysisResult/2019-11-27\\20191126-1\\C001H001S0007\\vmem_imp.avi\"\n"
     ]
    }
   ],
   "source": [
    "for path in glob.glob(\"E://AnalysisResult/2019-11-27/*/*/vmem*\"):\n",
    "    makeMovie(path)"
   ]
  },
  {
   "cell_type": "code",
   "execution_count": null,
   "metadata": {},
   "outputs": [],
   "source": []
  }
 ],
 "metadata": {
  "kernelspec": {
   "display_name": "Python 3",
   "language": "python",
   "name": "python3"
  },
  "language_info": {
   "codemirror_mode": {
    "name": "ipython",
    "version": 3
   },
   "file_extension": ".py",
   "mimetype": "text/x-python",
   "name": "python",
   "nbconvert_exporter": "python",
   "pygments_lexer": "ipython3",
   "version": "3.7.4"
  }
 },
 "nbformat": 4,
 "nbformat_minor": 2
}
