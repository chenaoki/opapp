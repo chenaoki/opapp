{
 "cells": [
  {
   "cell_type": "code",
   "execution_count": 1,
   "metadata": {},
   "outputs": [],
   "source": [
    "import sys, os\n",
    "import numpy as np\n",
    "import cupy as xp\n",
    "\n",
    "sys.path.append('./opmap/')\n",
    "\n",
    "import glob\n",
    "\n",
    "from opmap.rawCam import RawCam\n",
    "from opmap.vmemMap import VmemMap\n",
    "from opmap.phaseMapHilbert import PhaseMapHilbert\n",
    "from opmap.util import makeMovie\n",
    "\n",
    "import matplotlib.pyplot as plt\n",
    "%matplotlib inline"
   ]
  },
  {
   "cell_type": "code",
   "execution_count": 2,
   "metadata": {},
   "outputs": [
    {
     "data": {
      "text/plain": [
       "['/mnt/Jalife/ExperimentData/20190925-1/LA/C001H001S0001/',\n",
       " '/mnt/Jalife/ExperimentData/20190925-1/LA/C001H001S0002/',\n",
       " '/mnt/Jalife/ExperimentData/20190925-1/LA/C001H001S0003/',\n",
       " '/mnt/Jalife/ExperimentData/20190925-1/LA/C001H001S0004/',\n",
       " '/mnt/Jalife/ExperimentData/20190925-1/LA/C001H001S0005/',\n",
       " '/mnt/Jalife/ExperimentData/20190925-1/LA/C001H001S0006/',\n",
       " '/mnt/Jalife/ExperimentData/20190925-1/LA/C001H001S0007/',\n",
       " '/mnt/Jalife/ExperimentData/20190925-1/LA/C001H001S0008/',\n",
       " '/mnt/Jalife/ExperimentData/20190925-1/LA/C001H001S0009/',\n",
       " '/mnt/Jalife/ExperimentData/20190925-1/LA/C001H001S0010/',\n",
       " '/mnt/Jalife/ExperimentData/20190925-1/LA/C001H001S0011/',\n",
       " '/mnt/Jalife/ExperimentData/20190925-1/LA/C001H001S0012/',\n",
       " '/mnt/Jalife/ExperimentData/20190925-1/LA/C001H001S0013/',\n",
       " '/mnt/Jalife/ExperimentData/20190925-1/LA/C001H001S0014/',\n",
       " '/mnt/Jalife/ExperimentData/20190925-1/LA/C001H001S0015/',\n",
       " '/mnt/Jalife/ExperimentData/20190925-1/LA/C001H001S0016/',\n",
       " '/mnt/Jalife/ExperimentData/20190925-1/LA/C001H001S0017/',\n",
       " '/mnt/Jalife/ExperimentData/20190925-1/LA/C001H001S0018/',\n",
       " '/mnt/Jalife/ExperimentData/20190925-1/LA/C001H001S0019/',\n",
       " '/mnt/Jalife/ExperimentData/20190925-1/LA/C001H001S0020/',\n",
       " '/mnt/Jalife/ExperimentData/20190925-1/LA/C001H001S0021/',\n",
       " '/mnt/Jalife/ExperimentData/20190925-1/LA/C001H001S0022/',\n",
       " '/mnt/Jalife/ExperimentData/20190925-1/RA/C001H001S0001/',\n",
       " '/mnt/Jalife/ExperimentData/20190925-1/RA/C001H001S0002/',\n",
       " '/mnt/Jalife/ExperimentData/20190925-1/RA/C001H001S0003/',\n",
       " '/mnt/Jalife/ExperimentData/20190925-1/RA/C001H001S0004/',\n",
       " '/mnt/Jalife/ExperimentData/20190925-1/RA/C001H001S0005/',\n",
       " '/mnt/Jalife/ExperimentData/20190925-1/RA/C001H001S0006/',\n",
       " '/mnt/Jalife/ExperimentData/20190925-1/RA/C001H001S0007/',\n",
       " '/mnt/Jalife/ExperimentData/20190925-1/RA/C001H001S0008/',\n",
       " '/mnt/Jalife/ExperimentData/20190925-1/RA/C001H001S0009/',\n",
       " '/mnt/Jalife/ExperimentData/20190925-1/RA/C001H001S0010/',\n",
       " '/mnt/Jalife/ExperimentData/20190925-1/RA/C001H001S0011/',\n",
       " '/mnt/Jalife/ExperimentData/20190925-1/RA/C001H001S0012/',\n",
       " '/mnt/Jalife/ExperimentData/20190925-1/RA/C001H001S0013/',\n",
       " '/mnt/Jalife/ExperimentData/20190925-1/RA/C001H001S0014/',\n",
       " '/mnt/Jalife/ExperimentData/20190925-1/RA/C001H001S0015/',\n",
       " '/mnt/Jalife/ExperimentData/20190925-1/RA/C001H001S0016/',\n",
       " '/mnt/Jalife/ExperimentData/20190925-1/RA/C001H001S0017/',\n",
       " '/mnt/Jalife/ExperimentData/20190925-1/RA/C001H001S0018/',\n",
       " '/mnt/Jalife/ExperimentData/20190925-1/RA/C001H001S0019/',\n",
       " '/mnt/Jalife/ExperimentData/20190925-1/RA/C001H001S0020/',\n",
       " '/mnt/Jalife/ExperimentData/20190925-1/RA/C001H001S0021/',\n",
       " '/mnt/Jalife/ExperimentData/20190925-1/RA/C001H001S0022/',\n",
       " '/mnt/Jalife/ExperimentData/20190926-1/LA/C001H001S0001/',\n",
       " '/mnt/Jalife/ExperimentData/20190926-1/LA/C001H001S0002/',\n",
       " '/mnt/Jalife/ExperimentData/20190926-1/LA/C001H001S0003/',\n",
       " '/mnt/Jalife/ExperimentData/20190926-1/LA/C001H001S0004/',\n",
       " '/mnt/Jalife/ExperimentData/20190926-1/LA/C001H001S0005/',\n",
       " '/mnt/Jalife/ExperimentData/20190926-1/LA/C001H001S0006/',\n",
       " '/mnt/Jalife/ExperimentData/20190926-1/LA/C001H001S0007/',\n",
       " '/mnt/Jalife/ExperimentData/20190926-1/LA/C001H001S0008/',\n",
       " '/mnt/Jalife/ExperimentData/20190926-1/LA/C001H001S0009/',\n",
       " '/mnt/Jalife/ExperimentData/20190926-1/LA/C001H001S0010/',\n",
       " '/mnt/Jalife/ExperimentData/20190926-1/LA/C001H001S0011/',\n",
       " '/mnt/Jalife/ExperimentData/20190926-1/LA/C001H001S0012/',\n",
       " '/mnt/Jalife/ExperimentData/20190926-1/LA/C001H001S0013/',\n",
       " '/mnt/Jalife/ExperimentData/20190926-1/LA/C001H001S0014/',\n",
       " '/mnt/Jalife/ExperimentData/20190926-1/LA/C001H001S0015/',\n",
       " '/mnt/Jalife/ExperimentData/20190926-1/LA/C001H001S0016/',\n",
       " '/mnt/Jalife/ExperimentData/20190926-1/LA/C001H001S0017/',\n",
       " '/mnt/Jalife/ExperimentData/20190926-1/LA/C001H001S0018/',\n",
       " '/mnt/Jalife/ExperimentData/20190926-1/RA/C001H001S0001/',\n",
       " '/mnt/Jalife/ExperimentData/20190926-1/RA/C001H001S0002/',\n",
       " '/mnt/Jalife/ExperimentData/20190926-1/RA/C001H001S0003/',\n",
       " '/mnt/Jalife/ExperimentData/20190926-1/RA/C001H001S0004/',\n",
       " '/mnt/Jalife/ExperimentData/20190926-1/RA/C001H001S0005/',\n",
       " '/mnt/Jalife/ExperimentData/20190926-1/RA/C001H001S0006/',\n",
       " '/mnt/Jalife/ExperimentData/20190926-1/RA/C001H001S0007/',\n",
       " '/mnt/Jalife/ExperimentData/20190926-1/RA/C001H001S0008/',\n",
       " '/mnt/Jalife/ExperimentData/20190926-1/RA/C001H001S0009/',\n",
       " '/mnt/Jalife/ExperimentData/20190926-1/RA/C001H001S0010/',\n",
       " '/mnt/Jalife/ExperimentData/20190926-1/RA/C001H001S0011/',\n",
       " '/mnt/Jalife/ExperimentData/20190926-1/RA/C001H001S0012/',\n",
       " '/mnt/Jalife/ExperimentData/20190926-1/RA/C001H001S0013/',\n",
       " '/mnt/Jalife/ExperimentData/20190926-1/RA/C001H001S0014/',\n",
       " '/mnt/Jalife/ExperimentData/20190926-1/RA/C001H001S0015/',\n",
       " '/mnt/Jalife/ExperimentData/20190926-1/RA/C001H001S0016/',\n",
       " '/mnt/Jalife/ExperimentData/20190926-1/RA/C001H001S0017/',\n",
       " '/mnt/Jalife/ExperimentData/20190926-1/RA/C001H001S0018/']"
      ]
     },
     "execution_count": 2,
     "metadata": {},
     "output_type": "execute_result"
    }
   ],
   "source": [
    "src_list = sorted(glob.glob('/mnt/Jalife/ExperimentData/2019092*/*/C001H001*/'))\n",
    "src_list"
   ]
  },
  {
   "cell_type": "code",
   "execution_count": 10,
   "metadata": {
    "scrolled": false
   },
   "outputs": [
    {
     "name": "stdout",
     "output_type": "stream",
     "text": [
      "./result/20190925-1/LA/C001H001S0001/\n"
     ]
    },
    {
     "ename": "KeyboardInterrupt",
     "evalue": "",
     "output_type": "error",
     "traceback": [
      "\u001b[0;31m---------------------------------------------------------------------------\u001b[0m",
      "\u001b[0;31mKeyboardInterrupt\u001b[0m                         Traceback (most recent call last)",
      "\u001b[0;32m<ipython-input-10-8f2dd8f5754c>\u001b[0m in \u001b[0;36m<module>\u001b[0;34m\u001b[0m\n\u001b[1;32m     17\u001b[0m     \u001b[0;32mif\u001b[0m \u001b[0msave\u001b[0m\u001b[0;34m:\u001b[0m\u001b[0;34m\u001b[0m\u001b[0m\n\u001b[1;32m     18\u001b[0m         \u001b[0mpath\u001b[0m \u001b[0;34m=\u001b[0m \u001b[0mos\u001b[0m\u001b[0;34m.\u001b[0m\u001b[0mpath\u001b[0m\u001b[0;34m.\u001b[0m\u001b[0mjoin\u001b[0m\u001b[0;34m(\u001b[0m\u001b[0mout_path\u001b[0m\u001b[0;34m,\u001b[0m \u001b[0;34m'vmem'\u001b[0m\u001b[0;34m)\u001b[0m\u001b[0;34m\u001b[0m\u001b[0m\n\u001b[0;32m---> 19\u001b[0;31m         \u001b[0mvmem\u001b[0m\u001b[0;34m.\u001b[0m\u001b[0msaveImage\u001b[0m\u001b[0;34m(\u001b[0m\u001b[0mpath\u001b[0m\u001b[0;34m)\u001b[0m\u001b[0;34m\u001b[0m\u001b[0m\n\u001b[0m\u001b[1;32m     20\u001b[0m         \u001b[0mmakeMovie\u001b[0m\u001b[0;34m(\u001b[0m\u001b[0mpath\u001b[0m\u001b[0;34m)\u001b[0m\u001b[0;34m\u001b[0m\u001b[0m\n\u001b[1;32m     21\u001b[0m \u001b[0;34m\u001b[0m\u001b[0m\n",
      "\u001b[0;32m/notebooks/opmap/videoData.py\u001b[0m in \u001b[0;36msaveImage\u001b[0;34m(self, savedir, img_type, skip)\u001b[0m\n\u001b[1;32m     66\u001b[0m                 plt.imsave(\n\u001b[1;32m     67\u001b[0m                     \u001b[0;34m'{0}/{1:0>6}.{2}'\u001b[0m\u001b[0;34m.\u001b[0m\u001b[0mformat\u001b[0m\u001b[0;34m(\u001b[0m\u001b[0msavedir\u001b[0m\u001b[0;34m,\u001b[0m \u001b[0mint\u001b[0m\u001b[0;34m(\u001b[0m\u001b[0mframe\u001b[0m\u001b[0;34m/\u001b[0m\u001b[0mskip\u001b[0m\u001b[0;34m)\u001b[0m\u001b[0;34m,\u001b[0m \u001b[0mimg_type\u001b[0m\u001b[0;34m)\u001b[0m\u001b[0;34m,\u001b[0m\u001b[0;34m\u001b[0m\u001b[0m\n\u001b[0;32m---> 68\u001b[0;31m                     \u001b[0mxp\u001b[0m\u001b[0;34m.\u001b[0m\u001b[0masnumpy\u001b[0m\u001b[0;34m(\u001b[0m\u001b[0mself\u001b[0m\u001b[0;34m.\u001b[0m\u001b[0mdata\u001b[0m\u001b[0;34m[\u001b[0m\u001b[0mframe\u001b[0m\u001b[0;34m,\u001b[0m \u001b[0;34m:\u001b[0m\u001b[0;34m,\u001b[0m \u001b[0;34m:\u001b[0m\u001b[0;34m]\u001b[0m\u001b[0;34m)\u001b[0m\u001b[0;34m,\u001b[0m \u001b[0mvmin\u001b[0m\u001b[0;34m=\u001b[0m\u001b[0mself\u001b[0m\u001b[0;34m.\u001b[0m\u001b[0mvmin\u001b[0m\u001b[0;34m,\u001b[0m \u001b[0mvmax\u001b[0m\u001b[0;34m=\u001b[0m\u001b[0mself\u001b[0m\u001b[0;34m.\u001b[0m\u001b[0mvmax\u001b[0m\u001b[0;34m,\u001b[0m \u001b[0mcmap\u001b[0m\u001b[0;34m=\u001b[0m\u001b[0mself\u001b[0m\u001b[0;34m.\u001b[0m\u001b[0mcmap\u001b[0m\u001b[0;34m\u001b[0m\u001b[0m\n\u001b[0m\u001b[1;32m     69\u001b[0m                 )\n\u001b[1;32m     70\u001b[0m         plt.imsave(\n",
      "\u001b[0;32m/usr/local/lib/python3.5/dist-packages/matplotlib/pyplot.py\u001b[0m in \u001b[0;36mimsave\u001b[0;34m(fname, arr, **kwargs)\u001b[0m\n\u001b[1;32m   2155\u001b[0m \u001b[0;34m@\u001b[0m\u001b[0mdocstring\u001b[0m\u001b[0;34m.\u001b[0m\u001b[0mcopy_dedent\u001b[0m\u001b[0;34m(\u001b[0m\u001b[0mmatplotlib\u001b[0m\u001b[0;34m.\u001b[0m\u001b[0mimage\u001b[0m\u001b[0;34m.\u001b[0m\u001b[0mimsave\u001b[0m\u001b[0;34m)\u001b[0m\u001b[0;34m\u001b[0m\u001b[0m\n\u001b[1;32m   2156\u001b[0m \u001b[0;32mdef\u001b[0m \u001b[0mimsave\u001b[0m\u001b[0;34m(\u001b[0m\u001b[0mfname\u001b[0m\u001b[0;34m,\u001b[0m \u001b[0marr\u001b[0m\u001b[0;34m,\u001b[0m \u001b[0;34m**\u001b[0m\u001b[0mkwargs\u001b[0m\u001b[0;34m)\u001b[0m\u001b[0;34m:\u001b[0m\u001b[0;34m\u001b[0m\u001b[0m\n\u001b[0;32m-> 2157\u001b[0;31m     \u001b[0;32mreturn\u001b[0m \u001b[0mmatplotlib\u001b[0m\u001b[0;34m.\u001b[0m\u001b[0mimage\u001b[0m\u001b[0;34m.\u001b[0m\u001b[0mimsave\u001b[0m\u001b[0;34m(\u001b[0m\u001b[0mfname\u001b[0m\u001b[0;34m,\u001b[0m \u001b[0marr\u001b[0m\u001b[0;34m,\u001b[0m \u001b[0;34m**\u001b[0m\u001b[0mkwargs\u001b[0m\u001b[0;34m)\u001b[0m\u001b[0;34m\u001b[0m\u001b[0m\n\u001b[0m\u001b[1;32m   2158\u001b[0m \u001b[0;34m\u001b[0m\u001b[0m\n\u001b[1;32m   2159\u001b[0m \u001b[0;34m\u001b[0m\u001b[0m\n",
      "\u001b[0;32m/usr/local/lib/python3.5/dist-packages/matplotlib/image.py\u001b[0m in \u001b[0;36mimsave\u001b[0;34m(fname, arr, vmin, vmax, cmap, format, origin, dpi)\u001b[0m\n\u001b[1;32m   1418\u001b[0m         \u001b[0mimage\u001b[0m\u001b[0;34m.\u001b[0m\u001b[0mset_data\u001b[0m\u001b[0;34m(\u001b[0m\u001b[0marr\u001b[0m\u001b[0;34m)\u001b[0m\u001b[0;34m\u001b[0m\u001b[0m\n\u001b[1;32m   1419\u001b[0m         \u001b[0mimage\u001b[0m\u001b[0;34m.\u001b[0m\u001b[0mset_clim\u001b[0m\u001b[0;34m(\u001b[0m\u001b[0mvmin\u001b[0m\u001b[0;34m,\u001b[0m \u001b[0mvmax\u001b[0m\u001b[0;34m)\u001b[0m\u001b[0;34m\u001b[0m\u001b[0m\n\u001b[0;32m-> 1420\u001b[0;31m         \u001b[0mimage\u001b[0m\u001b[0;34m.\u001b[0m\u001b[0mwrite_png\u001b[0m\u001b[0;34m(\u001b[0m\u001b[0mfname\u001b[0m\u001b[0;34m)\u001b[0m\u001b[0;34m\u001b[0m\u001b[0m\n\u001b[0m\u001b[1;32m   1421\u001b[0m     \u001b[0;32melse\u001b[0m\u001b[0;34m:\u001b[0m\u001b[0;34m\u001b[0m\u001b[0m\n\u001b[1;32m   1422\u001b[0m         \u001b[0mfig\u001b[0m \u001b[0;34m=\u001b[0m \u001b[0mFigure\u001b[0m\u001b[0;34m(\u001b[0m\u001b[0mdpi\u001b[0m\u001b[0;34m=\u001b[0m\u001b[0mdpi\u001b[0m\u001b[0;34m,\u001b[0m \u001b[0mframeon\u001b[0m\u001b[0;34m=\u001b[0m\u001b[0;32mFalse\u001b[0m\u001b[0;34m)\u001b[0m\u001b[0;34m\u001b[0m\u001b[0m\n",
      "\u001b[0;32m/usr/local/lib/python3.5/dist-packages/matplotlib/image.py\u001b[0m in \u001b[0;36mwrite_png\u001b[0;34m(self, fname)\u001b[0m\n\u001b[1;32m    616\u001b[0m         im = self.to_rgba(self._A[::-1] if self.origin == 'lower' else self._A,\n\u001b[1;32m    617\u001b[0m                           bytes=True, norm=True)\n\u001b[0;32m--> 618\u001b[0;31m         \u001b[0m_png\u001b[0m\u001b[0;34m.\u001b[0m\u001b[0mwrite_png\u001b[0m\u001b[0;34m(\u001b[0m\u001b[0mim\u001b[0m\u001b[0;34m,\u001b[0m \u001b[0mfname\u001b[0m\u001b[0;34m)\u001b[0m\u001b[0;34m\u001b[0m\u001b[0m\n\u001b[0m\u001b[1;32m    619\u001b[0m \u001b[0;34m\u001b[0m\u001b[0m\n\u001b[1;32m    620\u001b[0m     \u001b[0;32mdef\u001b[0m \u001b[0mset_data\u001b[0m\u001b[0;34m(\u001b[0m\u001b[0mself\u001b[0m\u001b[0;34m,\u001b[0m \u001b[0mA\u001b[0m\u001b[0;34m)\u001b[0m\u001b[0;34m:\u001b[0m\u001b[0;34m\u001b[0m\u001b[0m\n",
      "\u001b[0;31mKeyboardInterrupt\u001b[0m: "
     ]
    }
   ],
   "source": [
    "save=False\n",
    "for path in src_list:\n",
    "    \n",
    "    out_path = path.replace('/mnt/Jalife/ExperimentData/', './result/')\n",
    "    if not os.path.exists(out_path): os.makedirs(out_path)\n",
    "    print(out_path)\n",
    "    \n",
    "    cam = RawCam(\n",
    "        path,\n",
    "        'sa4',\n",
    "        512,512,0,1000\n",
    "    )\n",
    "    if save: plt.imsave(os.path.join(out_path, 'cam.png'), xp.asnumpy(cam.data[0]))\n",
    "    \n",
    "    vmem = VmemMap(cam)\n",
    "    del(cam)\n",
    "    if save:\n",
    "        path = os.path.join(out_path, 'vmem')\n",
    "        vmem.saveImage(path)\n",
    "        makeMovie(path)\n",
    "    \n",
    "    vmem.shrink_xy(4)\n",
    "    vmem.smooth_t(5)\n",
    "    vmem.smooth_xy(3)\n",
    "    pmap = PhaseMapHilbert(vmem, width=128)\n",
    "    del(vmem)\n",
    "\n",
    "    if save:\n",
    "        path = os.path.join(out_path, 'pmap')\n",
    "        pmap.saveImage(path)\n",
    "        makeMovie(path)\n",
    "    \n",
    "    break"
   ]
  },
  {
   "cell_type": "code",
   "execution_count": null,
   "metadata": {},
   "outputs": [],
   "source": []
  }
 ],
 "metadata": {
  "kernelspec": {
   "display_name": "Python 3",
   "language": "python",
   "name": "python3"
  },
  "language_info": {
   "codemirror_mode": {
    "name": "ipython",
    "version": 3
   },
   "file_extension": ".py",
   "mimetype": "text/x-python",
   "name": "python",
   "nbconvert_exporter": "python",
   "pygments_lexer": "ipython3",
   "version": "3.5.2"
  }
 },
 "nbformat": 4,
 "nbformat_minor": 2
}
